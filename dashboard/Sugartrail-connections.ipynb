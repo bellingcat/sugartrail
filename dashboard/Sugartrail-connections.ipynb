{
 "cells": [
  {
   "cell_type": "markdown",
   "id": "b6926e35",
   "metadata": {},
   "source": [
    "# Sugartrail connections"
   ]
  },
  {
   "cell_type": "code",
   "execution_count": null,
   "id": "f17ebdd2",
   "metadata": {},
   "outputs": [],
   "source": [
    "from sugartrail import api, processing, base\n",
    "import pandas as pd\n",
    "import ipywidgets as widgets\n",
    "from IPython.display import display"
   ]
  },
  {
   "cell_type": "code",
   "execution_count": null,
   "id": "cbc5e202",
   "metadata": {},
   "outputs": [],
   "source": [
    "%%capture\n",
    "network_1 = base.Network()\n",
    "network_2 = base.Network()"
   ]
  },
  {
   "attachments": {},
   "cell_type": "markdown",
   "id": "1704e377",
   "metadata": {},
   "source": [
    "1. Insert your [Companies House API](https://developer.company-information.service.gov.uk/how-to-create-an-application) key:"
   ]
  },
  {
   "cell_type": "code",
   "execution_count": null,
   "id": "0632780b",
   "metadata": {},
   "outputs": [],
   "source": [
    "API_input = widgets.Text(\n",
    "    value='',\n",
    "    placeholder='Insert API Key',\n",
    "    disabled=False\n",
    ")\n",
    "\n",
    "company_text_1 = widgets.Text(\n",
    "    value='',\n",
    "    placeholder='Insert Company ID',\n",
    "    disabled=True\n",
    ")\n",
    "\n",
    "company_text_2 = widgets.Text(\n",
    "    value='',\n",
    "    placeholder='Insert Company ID',\n",
    "    disabled=True\n",
    ")\n",
    "\n",
    "auth_status = widgets.HTML(\n",
    "    value=\"\",\n",
    ")\n",
    "\n",
    "\n",
    "\n",
    "auth_button = widgets.Button(description='Authenticate')\n",
    "auth_button.on_click(lambda bt: auth())\n",
    "\n",
    "init_button = widgets.Button(description='Initialise', disabled=True)\n",
    "init_button.on_click(lambda bt: init_network()) \n",
    "\n",
    "def auth():\n",
    "    auth_button.disabled=True\n",
    "    API_input.disabled=True\n",
    "    api.basic_auth.username = API_input.value\n",
    "    if api.test():\n",
    "        auth_status.value = u'\\u2705: Login successful'\n",
    "        auth_button.button_style='success'\n",
    "        company_text_1.disabled = False\n",
    "        company_text_2.disabled = False\n",
    "        init_button.disabled = False\n",
    "    else:\n",
    "        auth_button.disabled=False\n",
    "        API_input.disabled=False\n",
    "        auth_status.value = u'\\u274c: Invalid API key'\n",
    "\n",
    "display(API_input, auth_button, auth_status)"
   ]
  },
  {
   "attachments": {},
   "cell_type": "markdown",
   "id": "2bd8c5be",
   "metadata": {},
   "source": [
    "2. Insert the unique company registration numbers (CRNs) for two companies whcih you would like to check are connected:"
   ]
  },
  {
   "attachments": {},
   "cell_type": "markdown",
   "id": "d5f9b6ad",
   "metadata": {},
   "source": [
    "<!-- Insert a valid [Companies House Public Data API key](https://developer.company-information.service.gov.uk/get-started/) as `username` string value below. If you don't want to use the API and would prefer loading a pre-built network, uncomment and run the cell below and then run the final cell to build and load the map.  -->"
   ]
  },
  {
   "cell_type": "code",
   "execution_count": null,
   "id": "128106c5",
   "metadata": {},
   "outputs": [],
   "source": [
    "init_status = widgets.HTML(\n",
    "    value=\"\",\n",
    ") \n",
    "\n",
    "depth_selector = widgets.BoundedIntText(\n",
    "    value=1,\n",
    "    min=1,\n",
    "    max=20,\n",
    "    step=1,\n",
    "    disabled=True\n",
    ")\n",
    "\n",
    "generate_network_button = widgets.Button(description='Build Network', disabled=True)\n",
    "generate_network_button.on_click(lambda bt: generate_network())\n",
    "\n",
    "def config_network():\n",
    "    network_1.hop.officer_appointments_maxsize = 20\n",
    "    network_1.hop.officers_at_address_maxsize = 20\n",
    "    network_1.hop.companies_at_address_maxsize = 20\n",
    "\n",
    "    network_2.hop.officer_appointments_maxsize = 20\n",
    "    network_1.hop.officers_at_address_maxsize = 20\n",
    "    network_1.hop.companies_at_address_maxsize = 20\n",
    "    \n",
    "    depth_selector.disabled = False\n",
    "    generate_network_button.disabled = False\n",
    "\n",
    "def init_network():\n",
    "    init_button.disabled=True\n",
    "    response_1 = api.get_company(str(company_text_1.value))\n",
    "    response_2 = api.get_company(str(company_text_2.value))\n",
    "    company_text_1.disabled=True\n",
    "    company_text_2.disabled=True\n",
    "    if response_1 and response_2:\n",
    "        network_1.company_id = str(company_text_1.value)\n",
    "        network_2.company_id = str(company_text_2.value)\n",
    "        init_status.value = u'\\u2705: Initialisation successful for ' + str(response_1['company_name'] + ' and ' + str(response_2['company_name']))\n",
    "        init_button.button_style='success'\n",
    "        depth_selector.disabled = False\n",
    "        generate_network_button.disabled = False\n",
    "        config_network()\n",
    "        \n",
    "    elif not response_1:\n",
    "        init_button.disabled=False\n",
    "        company_text_1.disabled=False\n",
    "        company_text_2.disabled=False\n",
    "        init_status.value = u'\\u274c: Initialisation Failed. No records for company: ' + str(company_text_1.value)\n",
    "\n",
    "    elif not response_2:\n",
    "        init_button.disabled=False\n",
    "        company_text_1.disabled=False\n",
    "        company_text_2.disabled=False\n",
    "        init_status.value = u'\\u274c: Initialisation Failed. No records for company: ' + str(company_text_2.value)\n",
    "\n",
    "display(company_text_1, company_text_2, init_button, init_status)"
   ]
  },
  {
   "cell_type": "code",
   "execution_count": null,
   "id": "bbb6dc8c",
   "metadata": {},
   "outputs": [],
   "source": [
    "def config_network():\n",
    "    network_1.hop.officer_appointments_maxsize = 20\n",
    "    network_1.hop.officers_at_address_maxsize = 20\n",
    "    network_1.hop.companies_at_address_maxsize = 20\n",
    "\n",
    "    network_2.hop.officer_appointments_maxsize = 20\n",
    "    network_1.hop.officers_at_address_maxsize = 20\n",
    "    network_1.hop.companies_at_address_maxsize = 20\n",
    "    \n",
    "    depth_selector.disabled = False\n",
    "    generate_network_button.disabled = False"
   ]
  },
  {
   "attachments": {},
   "cell_type": "markdown",
   "id": "addafb36",
   "metadata": {},
   "source": [
    "3. Select the depth of the networks you would like to build:"
   ]
  },
  {
   "cell_type": "code",
   "execution_count": null,
   "id": "ea0e8392",
   "metadata": {},
   "outputs": [],
   "source": [
    "build_status = widgets.HTML(\n",
    "    value=\"\",\n",
    ")\n",
    "\n",
    "results = {'connections': []}\n",
    "\n",
    "show_connections_button = widgets.Button(description='Show Connections', disabled=True)\n",
    "show_connections_button.on_click(lambda bt: calculate_links())\n",
    "\n",
    "def generate_network():\n",
    "    with output_box:\n",
    "        depth_selector.disabled = True\n",
    "        results['connections'] = []\n",
    "        generate_network_button.disabled = True\n",
    "        results['connections'] = processing.find_network_connections(network_1, network_2, depth_selector.value)\n",
    "        generate_network_button.button_style = \"success\"\n",
    "        if len(results['connections']) > 0:\n",
    "            for i, connection in enumerate(results['connections']):\n",
    "                print('Connection ' + str(i + 1) +': ' + connection)\n",
    "            show_connections_button.disabled = False\n",
    "        \n",
    "    \n",
    "output_box = widgets.Output()\n",
    "display(depth_selector, generate_network_button, build_status, output_box)"
   ]
  },
  {
   "attachments": {},
   "cell_type": "markdown",
   "id": "03ffce05",
   "metadata": {},
   "source": [
    "4. Trace the links from each company to the connections:"
   ]
  },
  {
   "cell_type": "code",
   "execution_count": null,
   "id": "6449cd96",
   "metadata": {},
   "outputs": [],
   "source": [
    "def calculate_links():\n",
    "    with links_box:\n",
    "        for connection in results['connections']:\n",
    "            print(connection)\n",
    "            table_data_1 = pd.DataFrame(network_1.find_path(connection))\n",
    "            table_data_2 = pd.DataFrame(network_2.find_path(connection))\n",
    "            display(table_data_1)\n",
    "            display(table_data_2)\n",
    "\n",
    "    show_connections_button.button_style = \"success\"\n",
    "\n",
    "links_box = widgets.Output()\n",
    "display(show_connections_button, links_box)"
   ]
  }
 ],
 "metadata": {
  "kernelspec": {
   "display_name": "Python 3 (ipykernel)",
   "language": "python",
   "name": "python3"
  },
  "language_info": {
   "codemirror_mode": {
    "name": "ipython",
    "version": 3
   },
   "file_extension": ".py",
   "mimetype": "text/x-python",
   "name": "python",
   "nbconvert_exporter": "python",
   "pygments_lexer": "ipython3",
   "version": "3.10.12"
  }
 },
 "nbformat": 4,
 "nbformat_minor": 5
}
