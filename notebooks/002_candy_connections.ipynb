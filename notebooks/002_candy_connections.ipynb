{
 "cells": [
  {
   "cell_type": "markdown",
   "id": "d484fa3a",
   "metadata": {},
   "source": [
    "*In this tutorial we will explore how many of Oxford Street's souvenir and candy shops are connected.*"
   ]
  },
  {
   "cell_type": "markdown",
   "id": "bb98746a",
   "metadata": {},
   "source": [
    "In a [recent article](https://www.ft.com/candy) in the Financial Times, journalists mapped a number of candy shops on Oxford Street and noted that the company officers appear to form a loose network \"with some sharing residential or business addresses, or taking ownership of a business for months at a time before ceding to another shareholder\". Using the addresses and companies mentioned in the article, I compiled the following relevant records from Companies House:\n",
    "\n",
    "- CITY SOUVENIRS LTD (539 Oxford Street): 08658716\n",
    "- London Hot Accessories Limited (537 Oxford Street): 10116914\n",
    "- AMERICAN SWEET DREAMS LIMITED (524 Oxford Street): 13938312\n",
    "- Western Crown Limited (470-482 Oxford Street): 13455377\n",
    "- CANDYLICIOUS WHOLESALE LIMITED (470-472 Oxford Street): 14091125\n",
    "- FREAKNAUGHTY LTD (407 Oxford Street): 11730327\n",
    "- NASTY BANG LTD (324 Oxford Street): 14223273\n",
    "- Quality Products and Merchandise Ltd (321-323 Oxford Street): 14518117\n",
    "- Kingdom of Sweets (270 Oxford Street): 11004735\n",
    "- LND Accesorize Limited (271 Oxford Street): 11601607\n",
    "- Candystreet (146-148 Oxford Street): 12415826\n",
    "- E & A Accessories Limited (35 Oxford Street): 14261732\n",
    "- Breeze Vape Limited (33 Oxford Street): 14050986\n",
    "- Drip Vape (33 Oxford Street): 14055609\n",
    "- Gift 4 You (4 Oxford Street): 11439227\n",
    "\n",
    "The following companies were also mentioned however I couldn't find a relevant record in Companies House:\n",
    "\n",
    "- London Dream (476 Oxford Street)\n",
    "- Welcome London (399-403 Oxford Street)\n",
    "- American Candy Shop (385-389 Oxford Street)\n",
    "- Candy World (363-367 Oxford Street)\n",
    "- Tobacco & Cigarettes Sold Here (273 Oxford Street)\n",
    "- Unique Gifts (159 Oxford Street)\n",
    "- Toys and Gifts (142-144 Oxford Street)\n",
    "- American Candy World (119-121 Oxford Street)\n",
    "- American Sweets & Souvenirs (37-39 Oxford Street)\n",
    "\n",
    "In this tutorial we will build a large network of companies that connect to a single company on Oxford Street. We can use the following dictionary of companies for reference: "
   ]
  },
  {
   "cell_type": "code",
   "execution_count": null,
   "id": "e43ba230",
   "metadata": {},
   "outputs": [],
   "source": [
    "candy_shops = [{\"company_name\": \"City Souvenirs\", \"address\": \"539 Oxford Street\", \"company_id\": \"08658716\"},\n",
    "            {\"company_name\": \"London Hot Accessories\", \"address\": \"537 Oxford Street\", \"company_id\": \"10116914\"},\n",
    "            {\"company_name\": \"American Sweet Dreams\", \"address\": \"524 Oxford Street\", \"company_id\": \"13938312\"},\n",
    "            {\"company_name\": \"London Dream\", \"address\": \"476 Oxford Street\", \"company_id\": \"\"},\n",
    "            {\"company_name\": \"Western Crown\", \"address\": \"470-482 Oxford Street\", \"company_id\": \"13455377\"},\n",
    "            {\"company_name\": \"Candylicious Wholesale\", \"address\": \"470-482 Oxford Street\", \"company_id\": \"14091125\"},\n",
    "            {\"company_name\": \"Freakynaughty\", \"address\": \"407 Oxford Street\", \"company_id\": \"11730327\"},\n",
    "            {\"company_name\": \"Welcome London\", \"address\": \"399-403 Oxford Street\", \"company_id\": \"\"},\n",
    "            {\"company_name\": \"American Candy Shop\", \"address\": \"385-389 Oxford Street\", \"company_id\": \"\"},\n",
    "            {\"company_name\": \"Candy World\", \"address\": \"363-367 Oxford Street\", \"company_id\": \"\"},\n",
    "            {\"company_name\": \"Nasty Bang\", \"address\": \"324 Oxford Street\", \"company_id\": \"14223273\"},\n",
    "            {\"company_name\": \"Quality Products and Merchandise\", \"address\": \"324 Oxford Street\", \"company_id\": \"14223273\"},\n",
    "            {\"company_name\": \"Tobacco & Cigarettes Sold Here\", \"address\": \"273 Oxford Street\", \"company_id\": \"\"},\n",
    "            {\"company_name\": \"LND Accesorize\", \"address\": \"271 Oxford Street\", \"company_id\": \"11601607\"},\n",
    "            {\"company_name\": \"Unique Gifts\", \"address\": \"159 Oxford Street\", \"company_id\": \"\"},\n",
    "            {\"company_name\": \"Toys and Gifts\", \"address\": \"142-144 Oxford Street\", \"company_id\": \"\"},\n",
    "            {\"company_name\": \"Candystreet\", \"address\": \"146-148 Oxford Street\", \"company_id\": \"12415826\"},\n",
    "            {\"company_name\": \"American Candy World\", \"address\": \"119-121 Oxford Street\", \"company_id\": \"\"},\n",
    "            {\"company_name\": \"American Sweets & Souvenirs\", \"address\": \"37-39 Oxford Street\", \"company_id\": \"\"},\n",
    "            {\"company_name\": \"E & A Accessories Limited\", \"address\": \"35 Oxford Street\", \"company_id\": \"14261732\"},\n",
    "            {\"company_name\": \"Breeze Vape Limited\", \"address\": \"33 Oxford Street\", \"company_id\": \"14050986\"},\n",
    "            {\"company_name\": \"Drip Vape\", \"address\": \"33 Oxford Street\", \"company_id\": \"14055609\"},\n",
    "            {\"company_name\": \"Gift 4 You\", \"address\": \"4 Oxford Street\", \"company_id\": \"11439227\"}]"
   ]
  },
  {
   "cell_type": "code",
   "execution_count": null,
   "id": "9c8ebc89",
   "metadata": {},
   "outputs": [],
   "source": [
    "import sugartrail\n",
    "import pandas as pd\n",
    "from ipywidgets import HTML, Widget, Layout, Output, VBox, HBox, Textarea"
   ]
  },
  {
   "cell_type": "markdown",
   "id": "26dfff93",
   "metadata": {},
   "source": [
    "Add Companies House API key:"
   ]
  },
  {
   "cell_type": "code",
   "execution_count": null,
   "id": "4a5377a3",
   "metadata": {},
   "outputs": [],
   "source": [
    "sugartrail.api.basic_auth.username = \"\""
   ]
  },
  {
   "cell_type": "markdown",
   "id": "ac9946b1",
   "metadata": {},
   "source": [
    "Lets investigate \"Western Crown\" which has an id of \"13455377\""
   ]
  },
  {
   "cell_type": "markdown",
   "id": "a8e5dbe1",
   "metadata": {},
   "source": [
    "<figure>\n",
    "<img src=\"../assets/images/western_crown.png\" style=\"width:100%\">\n",
    "<figcaption align = \"center\"> 470-482 Oxford Street </figcaption>\n",
    "</figure>"
   ]
  },
  {
   "cell_type": "code",
   "execution_count": null,
   "id": "79c2e3ab",
   "metadata": {},
   "outputs": [],
   "source": [
    "origin_company_id=\"13455377\"\n",
    "western_crown_network = sugartrail.base.Network(company_id=origin_company_id)"
   ]
  },
  {
   "cell_type": "markdown",
   "id": "15c23378",
   "metadata": {},
   "source": [
    "Lets impose some limits on the results. As we're doing a deeper search we want to avoid accumulating lots of irrelevant data connected to incorporation agents and virtual offices. By setting the following limits, the network will not include results that exceed these limits:"
   ]
  },
  {
   "cell_type": "code",
   "execution_count": null,
   "id": "e83fd13f",
   "metadata": {},
   "outputs": [],
   "source": [
    "western_crown_network.hop.companies_at_address_maxsize = 50\n",
    "western_crown_network.hop.officers_at_address_maxsize = 50\n",
    "western_crown_network.hop.officer_appointments_maxsize = 50"
   ]
  },
  {
   "cell_type": "markdown",
   "id": "866bc18e",
   "metadata": {},
   "source": [
    "Lets go big and perform 6 hops. It's likely to take some time to gather all the data (1+ hour). If you don't want to wait, you can also use uncomment the block below to load a pre-made network instance, in which case, jump to the 'generate map' cell :"
   ]
  },
  {
   "cell_type": "code",
   "execution_count": null,
   "id": "df617fda",
   "metadata": {},
   "outputs": [],
   "source": [
    "# western_crown_network = sugartrail.base.Network(file=f'{sugartrail.const.networks_path}western_crown_network.json')"
   ]
  },
  {
   "cell_type": "code",
   "execution_count": null,
   "id": "477823cf",
   "metadata": {},
   "outputs": [],
   "source": [
    "western_crown_network.perform_hop(6)"
   ]
  },
  {
   "cell_type": "code",
   "execution_count": null,
   "id": "a52276d7",
   "metadata": {},
   "outputs": [],
   "source": [
    "western_crown_network.run_map_preprocessing()"
   ]
  },
  {
   "cell_type": "code",
   "execution_count": null,
   "id": "7bdde00f",
   "metadata": {
    "scrolled": false
   },
   "outputs": [],
   "source": [
    "# generate map\n",
    "map_data,path_table = sugartrail.mapvis.build_map(western_crown_network) \n",
    "hbox = HBox([path_table])\n",
    "vbox = VBox([map_data, hbox])\n",
    "vbox"
   ]
  },
  {
   "cell_type": "markdown",
   "id": "6d3090cc",
   "metadata": {},
   "source": [
    "### Oxford Street Connections\n",
    "\n",
    "From the data we've gathered, there are many companies and addresses that connect with the original address the network was built from (Western Crown Limited). To print the connections we can pass the company ID to `find_path`:"
   ]
  },
  {
   "cell_type": "code",
   "execution_count": null,
   "id": "6079643b",
   "metadata": {},
   "outputs": [],
   "source": [
    "pd.DataFrame(western_crown_network.find_path('10895963'))[['node_index', 'title', 'id', 'depth', 'node_type', 'link_type', 'link']]"
   ]
  },
  {
   "cell_type": "markdown",
   "id": "439ba049",
   "metadata": {},
   "source": [
    "<figure>\n",
    "<img src=\"../assets/images/537.png\" style=\"width:100%\">\n",
    "<figcaption align = \"center\"> 537 Oxford Street </figcaption>\n",
    "</figure>"
   ]
  },
  {
   "cell_type": "markdown",
   "id": "e641bf13",
   "metadata": {},
   "source": [
    "*Active Companies*\n",
    "- [BEST OF LONDON LIMITED](https://find-and-update.company-information.service.gov.uk/company/10895963) (10895963)\n",
    "\n",
    "*Dissolved Companies*\n",
    "- [LONDON HOT ACCESSORIES LIMITED](https://find-and-update.company-information.service.gov.uk/company/10116914) (10116914)\n",
    "- [TOURISTS WORLD LTD.](https://find-and-update.company-information.service.gov.uk/company/10643744) (10643744)\n",
    "- [GIFTS FOR TOURIST LIMITED](https://find-and-update.company-information.service.gov.uk/company/10910649) (10910649)"
   ]
  },
  {
   "cell_type": "markdown",
   "id": "67b89126",
   "metadata": {},
   "source": [
    "<figure>\n",
    "<img src=\"../assets/images/524.png\" style=\"width:100%\">\n",
    "<figcaption align = \"center\"> 524 Oxford Street </figcaption>\n",
    "</figure>"
   ]
  },
  {
   "cell_type": "markdown",
   "id": "145f6470",
   "metadata": {},
   "source": [
    "*Active Companies*\n",
    "- [CANDY TOWN LTD](https://find-and-update.company-information.service.gov.uk/company/11464159) (11464159)\n",
    "- [ESPANZA LIMITED](https://find-and-update.company-information.service.gov.uk/company/11474248) (11474248)\n",
    "\n",
    "*Dissolved Companies*\n",
    "- [MARGIN FREE SUPER MARKET LIMITED](https://find-and-update.company-information.service.gov.uk/company/10540083) (10540083)\n",
    "- [COOL MIX LIMITED](https://find-and-update.company-information.service.gov.uk/company/11031538) (11031538)\n",
    "- [ROCK GIFTS LTD](https://find-and-update.company-information.service.gov.uk/company/11588633) (11588633)"
   ]
  },
  {
   "cell_type": "markdown",
   "id": "004ff136",
   "metadata": {},
   "source": [
    "<figure>\n",
    "<img src=\"../assets/images/470.png\" style=\"width:100%\">\n",
    "<figcaption align = \"center\">470-482 Oxford Street</figcaption>\n",
    "</figure>"
   ]
  },
  {
   "cell_type": "markdown",
   "id": "baf21c69",
   "metadata": {},
   "source": [
    "*Active Companies*\n",
    "- [WESTERN CROWN LIMITED](https://find-and-update.company-information.service.gov.uk/company/13455377) (13455377)"
   ]
  },
  {
   "cell_type": "markdown",
   "id": "2143ce03",
   "metadata": {},
   "source": [
    "<figure>\n",
    "<img src=\"../assets/images/447.png\" style=\"width:100%\">\n",
    "<figcaption align = \"center\">447 Oxford Street</figcaption>\n",
    "</figure>"
   ]
  },
  {
   "cell_type": "markdown",
   "id": "7025e057",
   "metadata": {},
   "source": [
    "*Dissolved Companies*\n",
    "- [PLANET SOUVENIRS (UK) LIMITED](https://find-and-update.company-information.service.gov.uk/company/07570906) (07570906)"
   ]
  },
  {
   "cell_type": "markdown",
   "id": "1b74fcca",
   "metadata": {},
   "source": [
    "<figure>\n",
    "<img src=\"../assets/images/407.png\" style=\"width:100%\">\n",
    "<figcaption align = \"center\"> 407-409 Oxford Street </figcaption>\n",
    "</figure>"
   ]
  },
  {
   "cell_type": "markdown",
   "id": "b2b2771d",
   "metadata": {},
   "source": [
    "*Active Companies*\n",
    "- [WESTERN CROWN LIMITED](https://find-and-update.company-information.service.gov.uk/company/13455377) (13455377)"
   ]
  },
  {
   "cell_type": "markdown",
   "id": "a3a6e274",
   "metadata": {},
   "source": [
    "<figure>\n",
    "<img src=\"../assets/images/269.png\" style=\"width:100%\">\n",
    "<figcaption align = \"center\"> 267-269 Oxford Street </figcaption>\n",
    "</figure>"
   ]
  },
  {
   "cell_type": "markdown",
   "id": "5c007277",
   "metadata": {},
   "source": [
    "*Active Companies*\n",
    "- [MOODY MOON LIMITED](https://find-and-update.company-information.service.gov.uk/company/13287820) (13287820)"
   ]
  },
  {
   "cell_type": "markdown",
   "id": "54301d43",
   "metadata": {},
   "source": [
    "<figure>\n",
    "<img src=\"../assets/images/263.png\" style=\"width:100%\">\n",
    "<figcaption align = \"center\"> 263-265 Oxford Street </figcaption>\n",
    "</figure>"
   ]
  },
  {
   "cell_type": "markdown",
   "id": "4a290e19",
   "metadata": {},
   "source": [
    "*Active Companies*\n",
    "- [CEEKEY LONDON LTD](https://find-and-update.company-information.service.gov.uk/company/11647876) (11647876)\n",
    "\n",
    "*Liquidated Companies*\n",
    "- [RUSTIC RAY LTD](https://find-and-update.company-information.service.gov.uk/company/11758349) (11758349)\n",
    "\n",
    "*Dissolved Companies*\n",
    "- [LILLY MAX LIMITED](https://find-and-update.company-information.service.gov.uk/company/11474310) (11474310)\n",
    "- [GIFTNET LTD](https://find-and-update.company-information.service.gov.uk/company/11593230) (11593230)\n",
    "- [BUMPZ LTD](https://find-and-update.company-information.service.gov.uk/company/10941293) (10941293)\n",
    "- [VENGAT GIFT LTD](https://find-and-update.company-information.service.gov.uk/company/11647421) (11647421)"
   ]
  },
  {
   "cell_type": "markdown",
   "id": "a5883ee7",
   "metadata": {},
   "source": [
    "<figure>\n",
    "<img src=\"../assets/images/240.png\" style=\"width:100%\">\n",
    "<figcaption align = \"center\"> 240-242 Oxford Street </figcaption>\n",
    "</figure>"
   ]
  },
  {
   "cell_type": "markdown",
   "id": "99bec6e0",
   "metadata": {},
   "source": [
    "*Active Companies*\n",
    "- [GIFT 4 YOU LIMITED](https://find-and-update.company-information.service.gov.uk/company/11439227) (11439227)\n",
    "- [WEST END MANAGEMENT LIMITED](https://find-and-update.company-information.service.gov.uk/company/11467385) (11467385)\n",
    "\n",
    "*Dissolved Companies*\n",
    "- [TOURISTS WORLD LTD.](https://find-and-update.company-information.service.gov.uk/company/10643744) (10643744)\n",
    "- [GIFTS FOR TOURIST LIMITED](https://find-and-update.company-information.service.gov.uk/company/10910649) (10910649)\n",
    "- [LILLY MAX LIMITED](https://find-and-update.company-information.service.gov.uk/company/11474310) (11474310)"
   ]
  },
  {
   "cell_type": "markdown",
   "id": "af81028b",
   "metadata": {},
   "source": [
    "<figure>\n",
    "<img src=\"../assets/images/158.png\" style=\"width:100%\">\n",
    "<figcaption align = \"center\"> 158 Oxford Street </figcaption>\n",
    "</figure>"
   ]
  },
  {
   "cell_type": "markdown",
   "id": "0dd6dea9",
   "metadata": {},
   "source": [
    "*Dissolved Companies*\n",
    "\n",
    "- [UNIQUE GIFTS (LONDON) LTD](https://find-and-update.company-information.service.gov.uk/company/07060273) (07060273)"
   ]
  },
  {
   "cell_type": "markdown",
   "id": "6c3bf19e",
   "metadata": {},
   "source": [
    "<figure>\n",
    "<img src=\"../assets/images/146.png\" style=\"width:100%\">\n",
    "<figcaption align = \"center\"> 146-148 Oxford Street </figcaption>\n",
    "</figure>"
   ]
  },
  {
   "cell_type": "markdown",
   "id": "914616c5",
   "metadata": {},
   "source": [
    "*Active Companies*\n",
    "- [CANDYSTREET LTD](https://find-and-update.company-information.service.gov.uk/company/12415826) (12415826)\n",
    "- [LUMS SWEETS LTD](https://find-and-update.company-information.service.gov.uk/company/11864536) (11864536)\n",
    "- [SPARK LABEL LTD](https://find-and-update.company-information.service.gov.uk/company/13865359) (13865359)\n",
    "- [SEEN CAPTURE LTD](https://find-and-update.company-information.service.gov.uk/company/11468719) (11468719)\n",
    "- [PINEBIRD LTD](https://find-and-update.company-information.service.gov.uk/company/11869360) (11869360)\n",
    "\n",
    "*Dissolved Companies*\n",
    "- [WESTERN CANDIES LTD](https://find-and-update.company-information.service.gov.uk/company/12005109) (12005109)\n",
    "- [GIFTS OF GLORY LTD](https://find-and-update.company-information.service.gov.uk/company/12268339) (12268339)\n",
    "- [CANDY CANE LTD](https://find-and-update.company-information.service.gov.uk/company/12005370) (12005370)\n",
    "- [XEE ASSET MANAGEMENT LTD](https://find-and-update.company-information.service.gov.uk/company/10734212) (10734212)\n",
    "- [GRAND STORE LTD](https://find-and-update.company-information.service.gov.uk/company/11843228) (11843228)"
   ]
  },
  {
   "cell_type": "markdown",
   "id": "fa1727b0",
   "metadata": {},
   "source": [
    "<figure>\n",
    "<img src=\"../assets/images/142.png\" style=\"width:100%\">\n",
    "<figcaption align = \"center\"> 142 Oxford Street </figcaption>\n",
    "</figure>"
   ]
  },
  {
   "cell_type": "markdown",
   "id": "0dc6b948",
   "metadata": {},
   "source": [
    "*Active Companies*\n",
    "- [GRAND EMPIRE LIMITED](https://find-and-update.company-information.service.gov.uk/company/13376158) (13376158)\n",
    "- [ASUS BLUE LIMITED](https://find-and-update.company-information.service.gov.uk/company/13795800) (3795800)"
   ]
  },
  {
   "cell_type": "markdown",
   "id": "047afd96",
   "metadata": {},
   "source": [
    "<figure>\n",
    "<img src=\"../assets/images/41.png\" style=\"width:100%\">\n",
    "<figcaption align = \"center\"> 41 Oxford Street </figcaption>\n",
    "</figure>"
   ]
  },
  {
   "cell_type": "markdown",
   "id": "4719929d",
   "metadata": {},
   "source": [
    "*Active Companies*\n",
    "- [FANCY SOUVENIRS LIMITED](https://find-and-update.company-information.service.gov.uk/company/05548476) (05548476)"
   ]
  },
  {
   "cell_type": "markdown",
   "id": "5bd0e6f3",
   "metadata": {},
   "source": [
    "<figure>\n",
    "<img src=\"../assets/images/37.png\" style=\"width:100%\">\n",
    "<figcaption align = \"center\"> 37-39 Oxford Street </figcaption>\n",
    "</figure>"
   ]
  },
  {
   "cell_type": "markdown",
   "id": "4f51a748",
   "metadata": {},
   "source": [
    "*Active Companies*\n",
    "\n",
    "- [CHOCO-FIVES LTD](https://find-and-update.company-information.service.gov.uk/company/13967497) (13967497)\n",
    "- [FANCYGREEN LTD](https://find-and-update.company-information.service.gov.uk/company/14210992) (14210992)\n",
    "- [FORTLEE LTD](https://find-and-update.company-information.service.gov.uk/company/10782536) (10782536)\n",
    "- [CEEKEY LONDON LTD](https://find-and-update.company-information.service.gov.uk/company/11647876) (11647876)\n",
    "- [CHERRYTREE FOUNDATION](https://find-and-update.company-information.service.gov.uk/company/08632458) (08632458)\n",
    "- [CHOCO-LOT LTD](https://find-and-update.company-information.service.gov.uk/company/13964334) (13964334)\n",
    "- [FABIAN BELL LTD](https://find-and-update.company-information.service.gov.uk/company/11855234) (11855234)\n",
    "- [SEEN CAPTURE LTD](https://find-and-update.company-information.service.gov.uk/company/11468719) (11468719)\n",
    "- [ASUSGIFTS LIMITED](https://find-and-update.company-information.service.gov.uk/company/13857378) (13857378)\n",
    "- [BRITCO GIFTS LIMITED](https://find-and-update.company-information.service.gov.uk/company/14472151) (14472151)\n",
    "- [AH MONEY EXCHANGE LTD](https://find-and-update.company-information.service.gov.uk/company/10231441) (10231441)\n",
    "\n",
    "*Dissolved Companies*\n",
    "- [GIFT PUNCH LIMITED](https://find-and-update.company-information.service.gov.uk/company/12387042) (12387042)\n",
    "- [GIFTNET LTD](https://find-and-update.company-information.service.gov.uk/company/11593230) (11593230)\n",
    "- [JUICE COLLECTIVE LTD](https://find-and-update.company-information.service.gov.uk/company/08282993) (08282993)\n",
    "- [WINHAND LTD](https://find-and-update.company-information.service.gov.uk/company/11016980) (11016980)"
   ]
  },
  {
   "cell_type": "markdown",
   "id": "a3f9a2d7",
   "metadata": {},
   "source": [
    "<figure>\n",
    "<img src=\"../assets/images/4.png\" style=\"width:100%\">\n",
    "<figcaption align = \"center\"> 4 Oxford Street </figcaption>\n",
    "</figure>"
   ]
  },
  {
   "cell_type": "markdown",
   "id": "bef660a5",
   "metadata": {},
   "source": [
    "*Active Companies*\n",
    "- [GIFT 4 YOU LIMITED](https://find-and-update.company-information.service.gov.uk/company/11439227) (11439227)"
   ]
  },
  {
   "cell_type": "markdown",
   "id": "957f4c3e",
   "metadata": {},
   "source": [
    "### Beyond Oxford Street\n",
    "\n",
    "From analysing the 'generate map' cell, we will notice many other companies connected to the original company located beyond Oxford Street. Further research could involve:\n",
    "- building networks from some of the other companies registered to Oxford Street addresses\n",
    "- building networks deeper than 6 hops to explore a wider range of connections\n",
    "- analysing connections in greater detail\n",
    "- analysing documents from Companies House linked to companies in the network\n",
    "- identify other connected companies of interest beyond Oxford Street\n",
    "- develop statistics that communicate the scale of these networks and connectivity within the UK\n",
    "- analyse connections outside the UK \n",
    "- run a news search on entities within the network to see if companies are connected to any newsworthy entities\n",
    "- analyse hotspots for registering new companies over time to see if there are emerging popular locations, in other words where is the new Oxford Street?\n",
    "- analyse other types of companies connected to souvenir and candy shops (money exchanges, security firms etc.)"
   ]
  }
 ],
 "metadata": {
  "kernelspec": {
   "display_name": "Python 3 (ipykernel)",
   "language": "python",
   "name": "python3"
  },
  "language_info": {
   "codemirror_mode": {
    "name": "ipython",
    "version": 3
   },
   "file_extension": ".py",
   "mimetype": "text/x-python",
   "name": "python",
   "nbconvert_exporter": "python",
   "pygments_lexer": "ipython3",
   "version": "3.10.14"
  }
 },
 "nbformat": 4,
 "nbformat_minor": 5
}
